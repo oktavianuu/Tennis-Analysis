{
 "cells": [
  {
   "cell_type": "code",
   "execution_count": 1,
   "metadata": {},
   "outputs": [
    {
     "name": "stdout",
     "output_type": "stream",
     "text": [
      "Collecting roboflow\n",
      "  Downloading roboflow-1.1.48-py3-none-any.whl.metadata (9.7 kB)\n",
      "Requirement already satisfied: certifi in /opt/miniconda3/envs/Ai/lib/python3.11/site-packages (from roboflow) (2024.8.30)\n",
      "Requirement already satisfied: idna==3.7 in /opt/miniconda3/envs/Ai/lib/python3.11/site-packages (from roboflow) (3.7)\n",
      "Requirement already satisfied: cycler in /opt/miniconda3/envs/Ai/lib/python3.11/site-packages (from roboflow) (0.11.0)\n",
      "Requirement already satisfied: kiwisolver>=1.3.1 in /opt/miniconda3/envs/Ai/lib/python3.11/site-packages (from roboflow) (1.4.4)\n",
      "Requirement already satisfied: matplotlib in /opt/miniconda3/envs/Ai/lib/python3.11/site-packages (from roboflow) (3.9.2)\n",
      "Requirement already satisfied: numpy>=1.18.5 in /opt/miniconda3/envs/Ai/lib/python3.11/site-packages (from roboflow) (1.24.3)\n",
      "Collecting opencv-python-headless==4.10.0.84 (from roboflow)\n",
      "  Downloading opencv_python_headless-4.10.0.84-cp37-abi3-macosx_12_0_x86_64.whl.metadata (20 kB)\n",
      "Requirement already satisfied: Pillow>=7.1.2 in /opt/miniconda3/envs/Ai/lib/python3.11/site-packages (from roboflow) (10.4.0)\n",
      "Requirement already satisfied: python-dateutil in /opt/miniconda3/envs/Ai/lib/python3.11/site-packages (from roboflow) (2.9.0.post0)\n",
      "Collecting python-dotenv (from roboflow)\n",
      "  Downloading python_dotenv-1.0.1-py3-none-any.whl.metadata (23 kB)\n",
      "Requirement already satisfied: requests in /opt/miniconda3/envs/Ai/lib/python3.11/site-packages (from roboflow) (2.32.3)\n",
      "Requirement already satisfied: six in /opt/miniconda3/envs/Ai/lib/python3.11/site-packages (from roboflow) (1.16.0)\n",
      "Requirement already satisfied: urllib3>=1.26.6 in /opt/miniconda3/envs/Ai/lib/python3.11/site-packages (from roboflow) (2.2.3)\n",
      "Requirement already satisfied: tqdm>=4.41.0 in /opt/miniconda3/envs/Ai/lib/python3.11/site-packages (from roboflow) (4.66.5)\n",
      "Requirement already satisfied: PyYAML>=5.3.1 in /opt/miniconda3/envs/Ai/lib/python3.11/site-packages (from roboflow) (6.0.2)\n",
      "Collecting requests-toolbelt (from roboflow)\n",
      "  Downloading requests_toolbelt-1.0.0-py2.py3-none-any.whl.metadata (14 kB)\n",
      "Collecting filetype (from roboflow)\n",
      "  Downloading filetype-1.2.0-py2.py3-none-any.whl.metadata (6.5 kB)\n",
      "Requirement already satisfied: contourpy>=1.0.1 in /opt/miniconda3/envs/Ai/lib/python3.11/site-packages (from matplotlib->roboflow) (1.2.0)\n",
      "Requirement already satisfied: fonttools>=4.22.0 in /opt/miniconda3/envs/Ai/lib/python3.11/site-packages (from matplotlib->roboflow) (4.51.0)\n",
      "Requirement already satisfied: packaging>=20.0 in /opt/miniconda3/envs/Ai/lib/python3.11/site-packages (from matplotlib->roboflow) (24.1)\n",
      "Requirement already satisfied: pyparsing>=2.3.1 in /opt/miniconda3/envs/Ai/lib/python3.11/site-packages (from matplotlib->roboflow) (3.1.2)\n",
      "Requirement already satisfied: charset-normalizer<4,>=2 in /opt/miniconda3/envs/Ai/lib/python3.11/site-packages (from requests->roboflow) (3.3.2)\n",
      "Downloading roboflow-1.1.48-py3-none-any.whl (80 kB)\n",
      "Downloading opencv_python_headless-4.10.0.84-cp37-abi3-macosx_12_0_x86_64.whl (56.5 MB)\n",
      "\u001b[2K   \u001b[90m━━━━━━━━━━━━━━━━━━━━━━━━━━━━━━━━━━━━━━━━\u001b[0m \u001b[32m56.5/56.5 MB\u001b[0m \u001b[31m3.8 MB/s\u001b[0m eta \u001b[36m0:00:00\u001b[0m00:01\u001b[0m00:01\u001b[0m\n",
      "\u001b[?25hDownloading filetype-1.2.0-py2.py3-none-any.whl (19 kB)\n",
      "Downloading python_dotenv-1.0.1-py3-none-any.whl (19 kB)\n",
      "Downloading requests_toolbelt-1.0.0-py2.py3-none-any.whl (54 kB)\n",
      "Installing collected packages: filetype, python-dotenv, opencv-python-headless, requests-toolbelt, roboflow\n",
      "Successfully installed filetype-1.2.0 opencv-python-headless-4.10.0.84 python-dotenv-1.0.1 requests-toolbelt-1.0.0 roboflow-1.1.48\n"
     ]
    }
   ],
   "source": [
    "!pip install roboflow"
   ]
  },
  {
   "cell_type": "markdown",
   "metadata": {
    "vscode": {
     "languageId": "plaintext"
    }
   },
   "source": [
    "# Get Dataset"
   ]
  },
  {
   "cell_type": "code",
   "execution_count": 2,
   "metadata": {},
   "outputs": [
    {
     "name": "stdout",
     "output_type": "stream",
     "text": [
      "loading Roboflow workspace...\n",
      "loading Roboflow project...\n"
     ]
    },
    {
     "name": "stderr",
     "output_type": "stream",
     "text": [
      "Downloading Dataset Version Zip in tennis-ball-detection-6 to yolov5pytorch:: 100%|██████████| 52040/52040 [00:10<00:00, 4989.45it/s] "
     ]
    },
    {
     "name": "stdout",
     "output_type": "stream",
     "text": [
      "\n"
     ]
    },
    {
     "name": "stderr",
     "output_type": "stream",
     "text": [
      "\n",
      "Extracting Dataset Version Zip to tennis-ball-detection-6 in yolov5pytorch:: 100%|██████████| 1168/1168 [00:01<00:00, 1135.54it/s]\n"
     ]
    }
   ],
   "source": [
    "from roboflow import Roboflow\n",
    "rf = Roboflow(api_key=\"dy0S3OCpkJc3rQkjiBZZ\")\n",
    "project = rf.workspace(\"viren-dhanwani\").project(\"tennis-ball-detection\")\n",
    "version = project.version(6)\n",
    "dataset = version.download(\"yolov5\")"
   ]
  },
  {
   "cell_type": "code",
   "execution_count": 3,
   "metadata": {},
   "outputs": [],
   "source": [
    "import shutil # module to help move, copy and paste things"
   ]
  },
  {
   "cell_type": "code",
   "execution_count": 4,
   "metadata": {},
   "outputs": [
    {
     "data": {
      "text/plain": [
       "'tennis-ball-detection-6/tennis-ball-detection-6/valid'"
      ]
     },
     "execution_count": 4,
     "metadata": {},
     "output_type": "execute_result"
    }
   ],
   "source": [
    "shutil.move(\"tennis-ball-detection-6/train\",\n",
    "            \"tennis-ball-detection-6/tennis-ball-detection-6/train\")\n",
    "\n",
    "shutil.move(\"tennis-ball-detection-6/test\",\n",
    "            \"tennis-ball-detection-6/tennis-ball-detection-6/test\")\n",
    "\n",
    "shutil.move(\"tennis-ball-detection-6/valid\",\n",
    "            \"tennis-ball-detection-6/tennis-ball-detection-6/valid\")"
   ]
  },
  {
   "cell_type": "code",
   "execution_count": 7,
   "metadata": {},
   "outputs": [
    {
     "name": "stdout",
     "output_type": "stream",
     "text": [
      "Downloading https://github.com/ultralytics/assets/releases/download/v8.3.0/yolov5l6u.pt to 'yolov5l6u.pt'...\n",
      "100%|████████████████████████████████████████| 165M/165M [00:22<00:00, 7.83MB/s]\n",
      "Ultralytics 8.3.21 🚀 Python-3.11.10 torch-2.2.2 CPU (Intel Core(TM) i5-6360U 2.00GHz)\n",
      "\u001b[34m\u001b[1mengine/trainer: \u001b[0mtask=detect, mode=train, model=yolov5l6u.pt, data=/Users/oktavianu/Ai-Projects/Tennis-Analysis/training/tennis-ball-detection-6/data.yaml, epochs=100, time=None, patience=100, batch=16, imgsz=640, save=True, save_period=-1, cache=False, device=None, workers=8, project=None, name=train, exist_ok=False, pretrained=True, optimizer=auto, verbose=True, seed=0, deterministic=True, single_cls=False, rect=False, cos_lr=False, close_mosaic=10, resume=False, amp=True, fraction=1.0, profile=False, freeze=None, multi_scale=False, overlap_mask=True, mask_ratio=4, dropout=0.0, val=True, split=val, save_json=False, save_hybrid=False, conf=None, iou=0.7, max_det=300, half=False, dnn=False, plots=True, source=None, vid_stride=1, stream_buffer=False, visualize=False, augment=False, agnostic_nms=False, classes=None, retina_masks=False, embed=None, show=False, save_frames=False, save_txt=False, save_conf=False, save_crop=False, show_labels=True, show_conf=True, show_boxes=True, line_width=None, format=torchscript, keras=False, optimize=False, int8=False, dynamic=False, simplify=True, opset=None, workspace=4, nms=False, lr0=0.01, lrf=0.01, momentum=0.937, weight_decay=0.0005, warmup_epochs=3.0, warmup_momentum=0.8, warmup_bias_lr=0.1, box=7.5, cls=0.5, dfl=1.5, pose=12.0, kobj=1.0, label_smoothing=0.0, nbs=64, hsv_h=0.015, hsv_s=0.7, hsv_v=0.4, degrees=0.0, translate=0.1, scale=0.5, shear=0.0, perspective=0.0, flipud=0.0, fliplr=0.5, bgr=0.0, mosaic=1.0, mixup=0.0, copy_paste=0.0, copy_paste_mode=flip, auto_augment=randaugment, erasing=0.4, crop_fraction=1.0, cfg=None, tracker=botsort.yaml, save_dir=runs/detect/train\n",
      "Overriding model.yaml nc=80 with nc=1\n",
      "\n",
      "                   from  n    params  module                                       arguments                     \n",
      "  0                  -1  1      7040  ultralytics.nn.modules.conv.Conv             [3, 64, 6, 2, 2]              \n",
      "  1                  -1  1     73984  ultralytics.nn.modules.conv.Conv             [64, 128, 3, 2]               \n",
      "  2                  -1  3    156928  ultralytics.nn.modules.block.C3              [128, 128, 3]                 \n",
      "  3                  -1  1    295424  ultralytics.nn.modules.conv.Conv             [128, 256, 3, 2]              \n",
      "  4                  -1  6   1118208  ultralytics.nn.modules.block.C3              [256, 256, 6]                 \n",
      "  5                  -1  1   1180672  ultralytics.nn.modules.conv.Conv             [256, 512, 3, 2]              \n",
      "  6                  -1  9   6433792  ultralytics.nn.modules.block.C3              [512, 512, 9]                 \n",
      "  7                  -1  1   3540480  ultralytics.nn.modules.conv.Conv             [512, 768, 3, 2]              \n",
      "  8                  -1  3   5611008  ultralytics.nn.modules.block.C3              [768, 768, 3]                 \n",
      "  9                  -1  1   7079936  ultralytics.nn.modules.conv.Conv             [768, 1024, 3, 2]             \n",
      " 10                  -1  3   9971712  ultralytics.nn.modules.block.C3              [1024, 1024, 3]               \n",
      " 11                  -1  1   2624512  ultralytics.nn.modules.block.SPPF            [1024, 1024, 5]               \n",
      " 12                  -1  1    787968  ultralytics.nn.modules.conv.Conv             [1024, 768, 1, 1]             \n",
      " 13                  -1  1         0  torch.nn.modules.upsampling.Upsample         [None, 2, 'nearest']          \n",
      " 14             [-1, 8]  1         0  ultralytics.nn.modules.conv.Concat           [1]                           \n",
      " 15                  -1  3   6200832  ultralytics.nn.modules.block.C3              [1536, 768, 3, False]         \n",
      " 16                  -1  1    394240  ultralytics.nn.modules.conv.Conv             [768, 512, 1, 1]              \n",
      " 17                  -1  1         0  torch.nn.modules.upsampling.Upsample         [None, 2, 'nearest']          \n",
      " 18             [-1, 6]  1         0  ultralytics.nn.modules.conv.Concat           [1]                           \n",
      " 19                  -1  3   2757632  ultralytics.nn.modules.block.C3              [1024, 512, 3, False]         \n",
      " 20                  -1  1    131584  ultralytics.nn.modules.conv.Conv             [512, 256, 1, 1]              \n",
      " 21                  -1  1         0  torch.nn.modules.upsampling.Upsample         [None, 2, 'nearest']          \n",
      " 22             [-1, 4]  1         0  ultralytics.nn.modules.conv.Concat           [1]                           \n",
      " 23                  -1  3    690688  ultralytics.nn.modules.block.C3              [512, 256, 3, False]          \n",
      " 24                  -1  1    590336  ultralytics.nn.modules.conv.Conv             [256, 256, 3, 2]              \n",
      " 25            [-1, 20]  1         0  ultralytics.nn.modules.conv.Concat           [1]                           \n",
      " 26                  -1  3   2495488  ultralytics.nn.modules.block.C3              [512, 512, 3, False]          \n",
      " 27                  -1  1   2360320  ultralytics.nn.modules.conv.Conv             [512, 512, 3, 2]              \n",
      " 28            [-1, 16]  1         0  ultralytics.nn.modules.conv.Concat           [1]                           \n",
      " 29                  -1  3   5807616  ultralytics.nn.modules.block.C3              [1024, 768, 3, False]         \n",
      " 30                  -1  1   5309952  ultralytics.nn.modules.conv.Conv             [768, 768, 3, 2]              \n",
      " 31            [-1, 12]  1         0  ultralytics.nn.modules.conv.Concat           [1]                           \n",
      " 32                  -1  3  10496000  ultralytics.nn.modules.block.C3              [1536, 1024, 3, False]        \n",
      " 33    [23, 26, 29, 32]  1   9902356  ultralytics.nn.modules.head.Detect           [1, [256, 512, 768, 1024]]    \n",
      "YOLOv5l6u summary: 540 layers, 86,018,708 parameters, 86,018,692 gradients, 137.7 GFLOPs\n",
      "\n",
      "Transferred 891/899 items from pretrained weights\n",
      "Freezing layer 'model.33.dfl.conv.weight'\n",
      "\u001b[34m\u001b[1mtrain: \u001b[0mScanning /Users/oktavianu/Ai-Projects/Tennis-Analysis/training/tennis-bal\u001b[0m\n",
      "\u001b[34m\u001b[1mtrain: \u001b[0mNew cache created: /Users/oktavianu/Ai-Projects/Tennis-Analysis/training/tennis-ball-detection-6/tennis-ball-detection-6/train/labels.cache\n",
      "\u001b[34m\u001b[1mval: \u001b[0mScanning /Users/oktavianu/Ai-Projects/Tennis-Analysis/training/tennis-ball-\u001b[0m\n",
      "\u001b[34m\u001b[1mval: \u001b[0mNew cache created: /Users/oktavianu/Ai-Projects/Tennis-Analysis/training/tennis-ball-detection-6/tennis-ball-detection-6/valid/labels.cache\n",
      "Plotting labels to runs/detect/train/labels.jpg... \n",
      "\u001b[34m\u001b[1moptimizer:\u001b[0m 'optimizer=auto' found, ignoring 'lr0=0.01' and 'momentum=0.937' and determining best 'optimizer', 'lr0' and 'momentum' automatically... \n",
      "\u001b[34m\u001b[1moptimizer:\u001b[0m AdamW(lr=0.002, momentum=0.9) with parameter groups 147 weight(decay=0.0), 156 weight(decay=0.0005), 155 bias(decay=0.0)\n",
      "Image sizes 640 train, 640 val\n",
      "Using 0 dataloader workers\n",
      "Logging results to \u001b[1mruns/detect/train\u001b[0m\n",
      "Starting training for 100 epochs...\n",
      "\n",
      "      Epoch    GPU_mem   box_loss   cls_loss   dfl_loss  Instances       Size\n",
      "      1/100         0G       3.42      108.7      1.123         21        640:  ^C\n",
      "      1/100         0G       3.42      108.7      1.123         21        640:  \n",
      "Traceback (most recent call last):\n",
      "  File \"/opt/miniconda3/envs/Ai/bin/yolo\", line 8, in <module>\n",
      "    sys.exit(entrypoint())\n",
      "             ^^^^^^^^^^^^\n",
      "  File \"/opt/miniconda3/envs/Ai/lib/python3.11/site-packages/ultralytics/cfg/__init__.py\", line 824, in entrypoint\n",
      "    getattr(model, mode)(**overrides)  # default args from model\n",
      "    ^^^^^^^^^^^^^^^^^^^^^^^^^^^^^^^^^\n",
      "  File \"/opt/miniconda3/envs/Ai/lib/python3.11/site-packages/ultralytics/engine/model.py\", line 802, in train\n",
      "    self.trainer.train()\n",
      "  File \"/opt/miniconda3/envs/Ai/lib/python3.11/site-packages/ultralytics/engine/trainer.py\", line 207, in train\n",
      "    self._do_train(world_size)\n",
      "  File \"/opt/miniconda3/envs/Ai/lib/python3.11/site-packages/ultralytics/engine/trainer.py\", line 385, in _do_train\n",
      "    self.loss, self.loss_items = self.model(batch)\n",
      "                                 ^^^^^^^^^^^^^^^^^\n",
      "  File \"/opt/miniconda3/envs/Ai/lib/python3.11/site-packages/torch/nn/modules/module.py\", line 1511, in _wrapped_call_impl\n",
      "    return self._call_impl(*args, **kwargs)\n",
      "           ^^^^^^^^^^^^^^^^^^^^^^^^^^^^^^^^\n",
      "  File \"/opt/miniconda3/envs/Ai/lib/python3.11/site-packages/torch/nn/modules/module.py\", line 1520, in _call_impl\n",
      "    return forward_call(*args, **kwargs)\n",
      "           ^^^^^^^^^^^^^^^^^^^^^^^^^^^^^\n",
      "  File \"/opt/miniconda3/envs/Ai/lib/python3.11/site-packages/ultralytics/nn/tasks.py\", line 111, in forward\n",
      "    return self.loss(x, *args, **kwargs)\n",
      "           ^^^^^^^^^^^^^^^^^^^^^^^^^^^^^\n",
      "  File \"/opt/miniconda3/envs/Ai/lib/python3.11/site-packages/ultralytics/nn/tasks.py\", line 292, in loss\n",
      "    preds = self.forward(batch[\"img\"]) if preds is None else preds\n",
      "            ^^^^^^^^^^^^^^^^^^^^^^^^^^\n",
      "  File \"/opt/miniconda3/envs/Ai/lib/python3.11/site-packages/ultralytics/nn/tasks.py\", line 112, in forward\n",
      "    return self.predict(x, *args, **kwargs)\n",
      "           ^^^^^^^^^^^^^^^^^^^^^^^^^^^^^^^^\n",
      "  File \"/opt/miniconda3/envs/Ai/lib/python3.11/site-packages/ultralytics/nn/tasks.py\", line 130, in predict\n",
      "    return self._predict_once(x, profile, visualize, embed)\n",
      "           ^^^^^^^^^^^^^^^^^^^^^^^^^^^^^^^^^^^^^^^^^^^^^^^^\n",
      "  File \"/opt/miniconda3/envs/Ai/lib/python3.11/site-packages/ultralytics/nn/tasks.py\", line 151, in _predict_once\n",
      "    x = m(x)  # run\n",
      "        ^^^^\n",
      "  File \"/opt/miniconda3/envs/Ai/lib/python3.11/site-packages/torch/nn/modules/module.py\", line 1511, in _wrapped_call_impl\n",
      "    return self._call_impl(*args, **kwargs)\n",
      "           ^^^^^^^^^^^^^^^^^^^^^^^^^^^^^^^^\n",
      "  File \"/opt/miniconda3/envs/Ai/lib/python3.11/site-packages/torch/nn/modules/module.py\", line 1520, in _call_impl\n",
      "    return forward_call(*args, **kwargs)\n",
      "           ^^^^^^^^^^^^^^^^^^^^^^^^^^^^^\n",
      "  File \"/opt/miniconda3/envs/Ai/lib/python3.11/site-packages/ultralytics/nn/modules/block.py\", line 262, in forward\n",
      "    return self.cv3(torch.cat((self.m(self.cv1(x)), self.cv2(x)), 1))\n",
      "                               ^^^^^^^^^^^^^^^^^^^\n",
      "  File \"/opt/miniconda3/envs/Ai/lib/python3.11/site-packages/torch/nn/modules/module.py\", line 1511, in _wrapped_call_impl\n",
      "    return self._call_impl(*args, **kwargs)\n",
      "           ^^^^^^^^^^^^^^^^^^^^^^^^^^^^^^^^\n",
      "  File \"/opt/miniconda3/envs/Ai/lib/python3.11/site-packages/torch/nn/modules/module.py\", line 1520, in _call_impl\n",
      "    return forward_call(*args, **kwargs)\n",
      "           ^^^^^^^^^^^^^^^^^^^^^^^^^^^^^\n",
      "  File \"/opt/miniconda3/envs/Ai/lib/python3.11/site-packages/torch/nn/modules/container.py\", line 217, in forward\n",
      "    input = module(input)\n",
      "            ^^^^^^^^^^^^^\n",
      "  File \"/opt/miniconda3/envs/Ai/lib/python3.11/site-packages/torch/nn/modules/module.py\", line 1511, in _wrapped_call_impl\n",
      "    return self._call_impl(*args, **kwargs)\n",
      "           ^^^^^^^^^^^^^^^^^^^^^^^^^^^^^^^^\n",
      "  File \"/opt/miniconda3/envs/Ai/lib/python3.11/site-packages/torch/nn/modules/module.py\", line 1520, in _call_impl\n",
      "    return forward_call(*args, **kwargs)\n",
      "           ^^^^^^^^^^^^^^^^^^^^^^^^^^^^^\n",
      "  File \"/opt/miniconda3/envs/Ai/lib/python3.11/site-packages/ultralytics/nn/modules/block.py\", line 346, in forward\n",
      "    return x + self.cv2(self.cv1(x)) if self.add else self.cv2(self.cv1(x))\n",
      "                                                               ^^^^^^^^^^^\n",
      "  File \"/opt/miniconda3/envs/Ai/lib/python3.11/site-packages/torch/nn/modules/module.py\", line 1511, in _wrapped_call_impl\n",
      "    return self._call_impl(*args, **kwargs)\n",
      "           ^^^^^^^^^^^^^^^^^^^^^^^^^^^^^^^^\n",
      "  File \"/opt/miniconda3/envs/Ai/lib/python3.11/site-packages/torch/nn/modules/module.py\", line 1520, in _call_impl\n",
      "    return forward_call(*args, **kwargs)\n",
      "           ^^^^^^^^^^^^^^^^^^^^^^^^^^^^^\n",
      "  File \"/opt/miniconda3/envs/Ai/lib/python3.11/site-packages/ultralytics/nn/modules/conv.py\", line 50, in forward\n",
      "    return self.act(self.bn(self.conv(x)))\n",
      "                            ^^^^^^^^^^^^\n",
      "  File \"/opt/miniconda3/envs/Ai/lib/python3.11/site-packages/torch/nn/modules/module.py\", line 1511, in _wrapped_call_impl\n",
      "    return self._call_impl(*args, **kwargs)\n",
      "           ^^^^^^^^^^^^^^^^^^^^^^^^^^^^^^^^\n",
      "  File \"/opt/miniconda3/envs/Ai/lib/python3.11/site-packages/torch/nn/modules/module.py\", line 1520, in _call_impl\n",
      "    return forward_call(*args, **kwargs)\n",
      "           ^^^^^^^^^^^^^^^^^^^^^^^^^^^^^\n",
      "  File \"/opt/miniconda3/envs/Ai/lib/python3.11/site-packages/torch/nn/modules/conv.py\", line 460, in forward\n",
      "    return self._conv_forward(input, self.weight, self.bias)\n",
      "           ^^^^^^^^^^^^^^^^^^^^^^^^^^^^^^^^^^^^^^^^^^^^^^^^^\n",
      "  File \"/opt/miniconda3/envs/Ai/lib/python3.11/site-packages/torch/nn/modules/conv.py\", line 456, in _conv_forward\n",
      "    return F.conv2d(input, weight, bias, self.stride,\n",
      "           ^^^^^^^^^^^^^^^^^^^^^^^^^^^^^^^^^^^^^^^^^^\n",
      "KeyboardInterrupt\n"
     ]
    }
   ],
   "source": [
    "!yolo task=detect mode=train model=yolov5l6u.pt data={dataset.location}/data.yaml epochs=100 imgsz=640"
   ]
  },
  {
   "cell_type": "code",
   "execution_count": null,
   "metadata": {},
   "outputs": [],
   "source": []
  }
 ],
 "metadata": {
  "kernelspec": {
   "display_name": "Ai",
   "language": "python",
   "name": "python3"
  },
  "language_info": {
   "codemirror_mode": {
    "name": "ipython",
    "version": 3
   },
   "file_extension": ".py",
   "mimetype": "text/x-python",
   "name": "python",
   "nbconvert_exporter": "python",
   "pygments_lexer": "ipython3",
   "version": "3.11.10"
  }
 },
 "nbformat": 4,
 "nbformat_minor": 2
}
